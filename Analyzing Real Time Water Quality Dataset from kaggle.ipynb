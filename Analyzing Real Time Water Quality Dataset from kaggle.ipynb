{
 "cells": [
  {
   "cell_type": "markdown",
   "metadata": {},
   "source": [
    "__Dataset :- Real Time Water Quality Data__\n",
    "Link of dataset :-https://www.kaggle.com/ivivan/real-time-water-quality-data"
   ]
  },
  {
   "cell_type": "markdown",
   "metadata": {},
   "source": [
    "About the dataset :-The data are collected from North Queensland, Australia. There are 11 in-situ water quality monitoring stations with various sensor probes. The dataset includes water quality variables such as water level, water temperature, electric conductivity, turbidity, nitrate concentration and water discharge. Data is pro-processed to remove obvious outliers and resampled to have a constant time interval. Each monitoring station may have data collected from a different period of time because of different sensor deployment time or replacement strategies. Beside this, each station may monitor different water quality variables. I have used One dataset of Sorbellos Road in Australia and we are going to major the quality of water they are recieving."
   ]
  },
  {
   "cell_type": "markdown",
   "metadata": {},
   "source": [
    "__Description about the dataset__"
   ]
  },
  {
   "cell_type": "code",
   "execution_count": 51,
   "metadata": {},
   "outputs": [],
   "source": [
    "import pandas as pd\n",
    "import numpy as np \n",
    "import matplotlib.pyplot as plt\n",
    "import warnings\n",
    "warnings.filterwarnings('ignore')\n"
   ]
  },
  {
   "cell_type": "markdown",
   "metadata": {},
   "source": [
    "__Justification for the selection__\n"
   ]
  },
  {
   "cell_type": "markdown",
   "metadata": {},
   "source": [
    "It is necessary for identifying the water quality that we drink. So, by the data collected we can understand the quality og water.\n",
    "\n",
    "Variables for understanding the water quality are:-\n",
    "1)Conductivity\n",
    "2)Turbidity\n",
    "3)Temperature\n",
    "4)NO3\n",
    "\n",
    "and other are there for the analysis part."
   ]
  },
  {
   "cell_type": "markdown",
   "metadata": {},
   "source": [
    "__Statistical Description__"
   ]
  },
  {
   "cell_type": "code",
   "execution_count": 22,
   "metadata": {},
   "outputs": [
    {
     "name": "stdout",
     "output_type": "stream",
     "text": [
      "<class 'pandas.core.frame.DataFrame'>\n",
      "RangeIndex: 11718 entries, 0 to 11717\n",
      "Data columns (total 9 columns):\n",
      " #   Column        Non-Null Count  Dtype  \n",
      "---  ------        --------------  -----  \n",
      " 0   Timestamp     11718 non-null  object \n",
      " 1   Q             977 non-null    float64\n",
      " 2   Conductivity  892 non-null    float64\n",
      " 3   NO3           459 non-null    float64\n",
      " 4   Temp          892 non-null    float64\n",
      " 5   Turbidity     892 non-null    float64\n",
      " 6   Level         11716 non-null  float64\n",
      " 7   Dayofweek     11718 non-null  int64  \n",
      " 8   Month         11718 non-null  int64  \n",
      "dtypes: float64(6), int64(2), object(1)\n",
      "memory usage: 824.0+ KB\n"
     ]
    }
   ],
   "source": [
    "df = pd.read_csv(r'C:\\Users\\hp\\Desktop\\sandy_ck_sorbellos_road_joined.csv')\n",
    "df.info()  #gives whole idea about the dataset"
   ]
  },
  {
   "cell_type": "code",
   "execution_count": 23,
   "metadata": {},
   "outputs": [
    {
     "data": {
      "text/plain": [
       "(11718, 9)"
      ]
     },
     "execution_count": 23,
     "metadata": {},
     "output_type": "execute_result"
    }
   ],
   "source": [
    "df.shape #describes the number of columns and rows"
   ]
  },
  {
   "cell_type": "code",
   "execution_count": 24,
   "metadata": {},
   "outputs": [
    {
     "data": {
      "text/plain": [
       "Index(['Timestamp', 'Q', 'Conductivity', 'NO3', 'Temp', 'Turbidity', 'Level',\n",
       "       'Dayofweek', 'Month'],\n",
       "      dtype='object')"
      ]
     },
     "execution_count": 24,
     "metadata": {},
     "output_type": "execute_result"
    }
   ],
   "source": [
    "df.columns #all the columns in dataset"
   ]
  },
  {
   "cell_type": "code",
   "execution_count": 25,
   "metadata": {},
   "outputs": [
    {
     "data": {
      "text/html": [
       "<div>\n",
       "<style scoped>\n",
       "    .dataframe tbody tr th:only-of-type {\n",
       "        vertical-align: middle;\n",
       "    }\n",
       "\n",
       "    .dataframe tbody tr th {\n",
       "        vertical-align: top;\n",
       "    }\n",
       "\n",
       "    .dataframe thead th {\n",
       "        text-align: right;\n",
       "    }\n",
       "</style>\n",
       "<table border=\"1\" class=\"dataframe\">\n",
       "  <thead>\n",
       "    <tr style=\"text-align: right;\">\n",
       "      <th></th>\n",
       "      <th>Q</th>\n",
       "      <th>Conductivity</th>\n",
       "      <th>NO3</th>\n",
       "      <th>Temp</th>\n",
       "      <th>Turbidity</th>\n",
       "      <th>Level</th>\n",
       "      <th>Dayofweek</th>\n",
       "      <th>Month</th>\n",
       "    </tr>\n",
       "  </thead>\n",
       "  <tbody>\n",
       "    <tr>\n",
       "      <th>count</th>\n",
       "      <td>977.000000</td>\n",
       "      <td>892.000000</td>\n",
       "      <td>459.000000</td>\n",
       "      <td>892.000000</td>\n",
       "      <td>892.000000</td>\n",
       "      <td>11716.000000</td>\n",
       "      <td>11718.000000</td>\n",
       "      <td>11718.000000</td>\n",
       "    </tr>\n",
       "    <tr>\n",
       "      <th>mean</th>\n",
       "      <td>25.550323</td>\n",
       "      <td>171.349920</td>\n",
       "      <td>0.338751</td>\n",
       "      <td>26.421297</td>\n",
       "      <td>49.458388</td>\n",
       "      <td>1.292300</td>\n",
       "      <td>3.000000</td>\n",
       "      <td>6.032514</td>\n",
       "    </tr>\n",
       "    <tr>\n",
       "      <th>std</th>\n",
       "      <td>57.690946</td>\n",
       "      <td>129.431895</td>\n",
       "      <td>0.225888</td>\n",
       "      <td>3.014960</td>\n",
       "      <td>37.650040</td>\n",
       "      <td>0.538471</td>\n",
       "      <td>2.003283</td>\n",
       "      <td>3.811271</td>\n",
       "    </tr>\n",
       "    <tr>\n",
       "      <th>min</th>\n",
       "      <td>-90.991667</td>\n",
       "      <td>-0.090000</td>\n",
       "      <td>0.001000</td>\n",
       "      <td>14.770000</td>\n",
       "      <td>1.636667</td>\n",
       "      <td>0.956000</td>\n",
       "      <td>0.000000</td>\n",
       "      <td>1.000000</td>\n",
       "    </tr>\n",
       "    <tr>\n",
       "      <th>25%</th>\n",
       "      <td>7.823333</td>\n",
       "      <td>108.792500</td>\n",
       "      <td>0.095000</td>\n",
       "      <td>24.797500</td>\n",
       "      <td>21.205000</td>\n",
       "      <td>1.045000</td>\n",
       "      <td>1.000000</td>\n",
       "      <td>3.000000</td>\n",
       "    </tr>\n",
       "    <tr>\n",
       "      <th>50%</th>\n",
       "      <td>14.733333</td>\n",
       "      <td>170.630000</td>\n",
       "      <td>0.357000</td>\n",
       "      <td>25.920000</td>\n",
       "      <td>44.195000</td>\n",
       "      <td>1.165000</td>\n",
       "      <td>3.000000</td>\n",
       "      <td>6.000000</td>\n",
       "    </tr>\n",
       "    <tr>\n",
       "      <th>75%</th>\n",
       "      <td>21.405000</td>\n",
       "      <td>223.745000</td>\n",
       "      <td>0.546000</td>\n",
       "      <td>26.852500</td>\n",
       "      <td>66.555000</td>\n",
       "      <td>1.259250</td>\n",
       "      <td>5.000000</td>\n",
       "      <td>10.000000</td>\n",
       "    </tr>\n",
       "    <tr>\n",
       "      <th>max</th>\n",
       "      <td>578.600000</td>\n",
       "      <td>1245.940000</td>\n",
       "      <td>0.698000</td>\n",
       "      <td>42.430000</td>\n",
       "      <td>345.930000</td>\n",
       "      <td>7.245429</td>\n",
       "      <td>6.000000</td>\n",
       "      <td>12.000000</td>\n",
       "    </tr>\n",
       "  </tbody>\n",
       "</table>\n",
       "</div>"
      ],
      "text/plain": [
       "                Q  Conductivity         NO3        Temp   Turbidity  \\\n",
       "count  977.000000    892.000000  459.000000  892.000000  892.000000   \n",
       "mean    25.550323    171.349920    0.338751   26.421297   49.458388   \n",
       "std     57.690946    129.431895    0.225888    3.014960   37.650040   \n",
       "min    -90.991667     -0.090000    0.001000   14.770000    1.636667   \n",
       "25%      7.823333    108.792500    0.095000   24.797500   21.205000   \n",
       "50%     14.733333    170.630000    0.357000   25.920000   44.195000   \n",
       "75%     21.405000    223.745000    0.546000   26.852500   66.555000   \n",
       "max    578.600000   1245.940000    0.698000   42.430000  345.930000   \n",
       "\n",
       "              Level     Dayofweek         Month  \n",
       "count  11716.000000  11718.000000  11718.000000  \n",
       "mean       1.292300      3.000000      6.032514  \n",
       "std        0.538471      2.003283      3.811271  \n",
       "min        0.956000      0.000000      1.000000  \n",
       "25%        1.045000      1.000000      3.000000  \n",
       "50%        1.165000      3.000000      6.000000  \n",
       "75%        1.259250      5.000000     10.000000  \n",
       "max        7.245429      6.000000     12.000000  "
      ]
     },
     "execution_count": 25,
     "metadata": {},
     "output_type": "execute_result"
    }
   ],
   "source": [
    "df.describe()#describes the dataset and what is it is about"
   ]
  },
  {
   "cell_type": "code",
   "execution_count": 26,
   "metadata": {},
   "outputs": [
    {
     "name": "stdout",
     "output_type": "stream",
     "text": [
      "<class 'pandas.core.frame.DataFrame'>\n",
      "RangeIndex: 11718 entries, 0 to 11717\n",
      "Data columns (total 9 columns):\n",
      " #   Column        Non-Null Count  Dtype  \n",
      "---  ------        --------------  -----  \n",
      " 0   Timestamp     11718 non-null  object \n",
      " 1   Q             977 non-null    float64\n",
      " 2   Conductivity  892 non-null    float64\n",
      " 3   NO3           459 non-null    float64\n",
      " 4   Temp          892 non-null    float64\n",
      " 5   Turbidity     892 non-null    float64\n",
      " 6   Level         11716 non-null  float64\n",
      " 7   Dayofweek     11718 non-null  int64  \n",
      " 8   Month         11718 non-null  int64  \n",
      "dtypes: float64(6), int64(2), object(1)\n",
      "memory usage: 824.0+ KB\n"
     ]
    }
   ],
   "source": [
    "df.info()"
   ]
  },
  {
   "cell_type": "markdown",
   "metadata": {},
   "source": [
    "__Identifying and managing the missing values__"
   ]
  },
  {
   "cell_type": "code",
   "execution_count": 27,
   "metadata": {},
   "outputs": [
    {
     "data": {
      "text/plain": [
       "Timestamp           0\n",
       "Q               10741\n",
       "Conductivity    10826\n",
       "NO3             11259\n",
       "Temp            10826\n",
       "Turbidity       10826\n",
       "Level               2\n",
       "Dayofweek           0\n",
       "Month               0\n",
       "dtype: int64"
      ]
     },
     "execution_count": 27,
     "metadata": {},
     "output_type": "execute_result"
    }
   ],
   "source": [
    "df.isnull().sum() #finding the missing variables values"
   ]
  },
  {
   "cell_type": "code",
   "execution_count": 30,
   "metadata": {},
   "outputs": [
    {
     "data": {
      "text/plain": [
       "Timestamp        object\n",
       "Q               float64\n",
       "Conductivity    float64\n",
       "NO3             float64\n",
       "Temp            float64\n",
       "Turbidity       float64\n",
       "Level           float64\n",
       "Dayofweek         int64\n",
       "Month             int64\n",
       "dtype: object"
      ]
     },
     "execution_count": 30,
     "metadata": {},
     "output_type": "execute_result"
    }
   ],
   "source": [
    "df.dtypes"
   ]
  },
  {
   "cell_type": "code",
   "execution_count": 33,
   "metadata": {},
   "outputs": [
    {
     "data": {
      "text/html": [
       "<div>\n",
       "<style scoped>\n",
       "    .dataframe tbody tr th:only-of-type {\n",
       "        vertical-align: middle;\n",
       "    }\n",
       "\n",
       "    .dataframe tbody tr th {\n",
       "        vertical-align: top;\n",
       "    }\n",
       "\n",
       "    .dataframe thead th {\n",
       "        text-align: right;\n",
       "    }\n",
       "</style>\n",
       "<table border=\"1\" class=\"dataframe\">\n",
       "  <thead>\n",
       "    <tr style=\"text-align: right;\">\n",
       "      <th></th>\n",
       "      <th>Timestamp</th>\n",
       "    </tr>\n",
       "  </thead>\n",
       "  <tbody>\n",
       "    <tr>\n",
       "      <th>0</th>\n",
       "      <td>2018-11-30T09:00:00</td>\n",
       "    </tr>\n",
       "    <tr>\n",
       "      <th>1</th>\n",
       "      <td>2018-11-30T10:00:00</td>\n",
       "    </tr>\n",
       "    <tr>\n",
       "      <th>2</th>\n",
       "      <td>2018-11-30T11:00:00</td>\n",
       "    </tr>\n",
       "    <tr>\n",
       "      <th>3</th>\n",
       "      <td>2018-11-30T12:00:00</td>\n",
       "    </tr>\n",
       "    <tr>\n",
       "      <th>4</th>\n",
       "      <td>2018-11-30T13:00:00</td>\n",
       "    </tr>\n",
       "    <tr>\n",
       "      <th>...</th>\n",
       "      <td>...</td>\n",
       "    </tr>\n",
       "    <tr>\n",
       "      <th>11713</th>\n",
       "      <td>2020-04-01T10:00:00</td>\n",
       "    </tr>\n",
       "    <tr>\n",
       "      <th>11714</th>\n",
       "      <td>2020-04-01T11:00:00</td>\n",
       "    </tr>\n",
       "    <tr>\n",
       "      <th>11715</th>\n",
       "      <td>2020-04-01T12:00:00</td>\n",
       "    </tr>\n",
       "    <tr>\n",
       "      <th>11716</th>\n",
       "      <td>2020-04-01T13:00:00</td>\n",
       "    </tr>\n",
       "    <tr>\n",
       "      <th>11717</th>\n",
       "      <td>2020-04-01T14:00:00</td>\n",
       "    </tr>\n",
       "  </tbody>\n",
       "</table>\n",
       "<p>11718 rows × 1 columns</p>\n",
       "</div>"
      ],
      "text/plain": [
       "                 Timestamp\n",
       "0      2018-11-30T09:00:00\n",
       "1      2018-11-30T10:00:00\n",
       "2      2018-11-30T11:00:00\n",
       "3      2018-11-30T12:00:00\n",
       "4      2018-11-30T13:00:00\n",
       "...                    ...\n",
       "11713  2020-04-01T10:00:00\n",
       "11714  2020-04-01T11:00:00\n",
       "11715  2020-04-01T12:00:00\n",
       "11716  2020-04-01T13:00:00\n",
       "11717  2020-04-01T14:00:00\n",
       "\n",
       "[11718 rows x 1 columns]"
      ]
     },
     "execution_count": 33,
     "metadata": {},
     "output_type": "execute_result"
    }
   ],
   "source": [
    "df[['Timestamp']] #fetching data from the column"
   ]
  },
  {
   "cell_type": "markdown",
   "metadata": {},
   "source": [
    "As we can that the \"Timestamp\" is not needed for our datavisaulization. Therefore we will delete this column."
   ]
  },
  {
   "cell_type": "code",
   "execution_count": 34,
   "metadata": {},
   "outputs": [
    {
     "data": {
      "text/plain": [
       "0        2018-11-30T09:00:00\n",
       "1        2018-11-30T10:00:00\n",
       "2        2018-11-30T11:00:00\n",
       "3        2018-11-30T12:00:00\n",
       "4        2018-11-30T13:00:00\n",
       "                ...         \n",
       "11713    2020-04-01T10:00:00\n",
       "11714    2020-04-01T11:00:00\n",
       "11715    2020-04-01T12:00:00\n",
       "11716    2020-04-01T13:00:00\n",
       "11717    2020-04-01T14:00:00\n",
       "Name: Timestamp, Length: 11718, dtype: object"
      ]
     },
     "execution_count": 34,
     "metadata": {},
     "output_type": "execute_result"
    }
   ],
   "source": [
    "df.pop(\"Timestamp\") #so we have deleted the column"
   ]
  },
  {
   "cell_type": "code",
   "execution_count": 36,
   "metadata": {},
   "outputs": [
    {
     "data": {
      "text/html": [
       "<div>\n",
       "<style scoped>\n",
       "    .dataframe tbody tr th:only-of-type {\n",
       "        vertical-align: middle;\n",
       "    }\n",
       "\n",
       "    .dataframe tbody tr th {\n",
       "        vertical-align: top;\n",
       "    }\n",
       "\n",
       "    .dataframe thead th {\n",
       "        text-align: right;\n",
       "    }\n",
       "</style>\n",
       "<table border=\"1\" class=\"dataframe\">\n",
       "  <thead>\n",
       "    <tr style=\"text-align: right;\">\n",
       "      <th></th>\n",
       "      <th>Q</th>\n",
       "      <th>Conductivity</th>\n",
       "      <th>NO3</th>\n",
       "      <th>Temp</th>\n",
       "      <th>Turbidity</th>\n",
       "      <th>Level</th>\n",
       "      <th>Dayofweek</th>\n",
       "      <th>Month</th>\n",
       "    </tr>\n",
       "  </thead>\n",
       "  <tbody>\n",
       "    <tr>\n",
       "      <th>0</th>\n",
       "      <td>-13.69</td>\n",
       "      <td>1245.94</td>\n",
       "      <td>NaN</td>\n",
       "      <td>24.29</td>\n",
       "      <td>3.92</td>\n",
       "      <td>NaN</td>\n",
       "      <td>4</td>\n",
       "      <td>11</td>\n",
       "    </tr>\n",
       "    <tr>\n",
       "      <th>1</th>\n",
       "      <td>-10.99</td>\n",
       "      <td>NaN</td>\n",
       "      <td>NaN</td>\n",
       "      <td>NaN</td>\n",
       "      <td>NaN</td>\n",
       "      <td>1.079625</td>\n",
       "      <td>4</td>\n",
       "      <td>11</td>\n",
       "    </tr>\n",
       "    <tr>\n",
       "      <th>2</th>\n",
       "      <td>NaN</td>\n",
       "      <td>4.16</td>\n",
       "      <td>NaN</td>\n",
       "      <td>30.33</td>\n",
       "      <td>7.06</td>\n",
       "      <td>1.076500</td>\n",
       "      <td>4</td>\n",
       "      <td>11</td>\n",
       "    </tr>\n",
       "    <tr>\n",
       "      <th>3</th>\n",
       "      <td>NaN</td>\n",
       "      <td>NaN</td>\n",
       "      <td>NaN</td>\n",
       "      <td>NaN</td>\n",
       "      <td>NaN</td>\n",
       "      <td>1.075000</td>\n",
       "      <td>4</td>\n",
       "      <td>11</td>\n",
       "    </tr>\n",
       "    <tr>\n",
       "      <th>4</th>\n",
       "      <td>NaN</td>\n",
       "      <td>NaN</td>\n",
       "      <td>NaN</td>\n",
       "      <td>NaN</td>\n",
       "      <td>NaN</td>\n",
       "      <td>1.073000</td>\n",
       "      <td>4</td>\n",
       "      <td>11</td>\n",
       "    </tr>\n",
       "    <tr>\n",
       "      <th>...</th>\n",
       "      <td>...</td>\n",
       "      <td>...</td>\n",
       "      <td>...</td>\n",
       "      <td>...</td>\n",
       "      <td>...</td>\n",
       "      <td>...</td>\n",
       "      <td>...</td>\n",
       "      <td>...</td>\n",
       "    </tr>\n",
       "    <tr>\n",
       "      <th>11713</th>\n",
       "      <td>NaN</td>\n",
       "      <td>NaN</td>\n",
       "      <td>NaN</td>\n",
       "      <td>NaN</td>\n",
       "      <td>NaN</td>\n",
       "      <td>1.253000</td>\n",
       "      <td>2</td>\n",
       "      <td>4</td>\n",
       "    </tr>\n",
       "    <tr>\n",
       "      <th>11714</th>\n",
       "      <td>NaN</td>\n",
       "      <td>NaN</td>\n",
       "      <td>NaN</td>\n",
       "      <td>NaN</td>\n",
       "      <td>NaN</td>\n",
       "      <td>1.253000</td>\n",
       "      <td>2</td>\n",
       "      <td>4</td>\n",
       "    </tr>\n",
       "    <tr>\n",
       "      <th>11715</th>\n",
       "      <td>NaN</td>\n",
       "      <td>NaN</td>\n",
       "      <td>NaN</td>\n",
       "      <td>NaN</td>\n",
       "      <td>NaN</td>\n",
       "      <td>1.247000</td>\n",
       "      <td>2</td>\n",
       "      <td>4</td>\n",
       "    </tr>\n",
       "    <tr>\n",
       "      <th>11716</th>\n",
       "      <td>NaN</td>\n",
       "      <td>NaN</td>\n",
       "      <td>NaN</td>\n",
       "      <td>NaN</td>\n",
       "      <td>NaN</td>\n",
       "      <td>1.242000</td>\n",
       "      <td>2</td>\n",
       "      <td>4</td>\n",
       "    </tr>\n",
       "    <tr>\n",
       "      <th>11717</th>\n",
       "      <td>NaN</td>\n",
       "      <td>NaN</td>\n",
       "      <td>NaN</td>\n",
       "      <td>NaN</td>\n",
       "      <td>NaN</td>\n",
       "      <td>1.239000</td>\n",
       "      <td>2</td>\n",
       "      <td>4</td>\n",
       "    </tr>\n",
       "  </tbody>\n",
       "</table>\n",
       "<p>11718 rows × 8 columns</p>\n",
       "</div>"
      ],
      "text/plain": [
       "           Q  Conductivity  NO3   Temp  Turbidity     Level  Dayofweek  Month\n",
       "0     -13.69       1245.94  NaN  24.29       3.92       NaN          4     11\n",
       "1     -10.99           NaN  NaN    NaN        NaN  1.079625          4     11\n",
       "2        NaN          4.16  NaN  30.33       7.06  1.076500          4     11\n",
       "3        NaN           NaN  NaN    NaN        NaN  1.075000          4     11\n",
       "4        NaN           NaN  NaN    NaN        NaN  1.073000          4     11\n",
       "...      ...           ...  ...    ...        ...       ...        ...    ...\n",
       "11713    NaN           NaN  NaN    NaN        NaN  1.253000          2      4\n",
       "11714    NaN           NaN  NaN    NaN        NaN  1.253000          2      4\n",
       "11715    NaN           NaN  NaN    NaN        NaN  1.247000          2      4\n",
       "11716    NaN           NaN  NaN    NaN        NaN  1.242000          2      4\n",
       "11717    NaN           NaN  NaN    NaN        NaN  1.239000          2      4\n",
       "\n",
       "[11718 rows x 8 columns]"
      ]
     },
     "execution_count": 36,
     "metadata": {},
     "output_type": "execute_result"
    }
   ],
   "source": [
    "df   #we can see that the column is deleted"
   ]
  },
  {
   "cell_type": "markdown",
   "metadata": {},
   "source": [
    " We will be converting the remaining data in to **float**"
   ]
  },
  {
   "cell_type": "code",
   "execution_count": 41,
   "metadata": {},
   "outputs": [
    {
     "data": {
      "text/plain": [
       "Q               float64\n",
       "Conductivity    float64\n",
       "NO3             float64\n",
       "Temp            float64\n",
       "Turbidity       float64\n",
       "Level           float64\n",
       "Dayofweek       float64\n",
       "Month           float64\n",
       "dtype: object"
      ]
     },
     "execution_count": 41,
     "metadata": {},
     "output_type": "execute_result"
    }
   ],
   "source": [
    "df = df.astype(float)\n",
    "df.dtypes  #We have succesfully converted the data into floats"
   ]
  },
  {
   "cell_type": "markdown",
   "metadata": {},
   "source": [
    "In our case, we are going to drop them by using the Pandas function .dropna(). We will create a new data frame by selecting only the interesting value that we mentioned above"
   ]
  },
  {
   "cell_type": "code",
   "execution_count": 42,
   "metadata": {},
   "outputs": [
    {
     "data": {
      "text/html": [
       "<div>\n",
       "<style scoped>\n",
       "    .dataframe tbody tr th:only-of-type {\n",
       "        vertical-align: middle;\n",
       "    }\n",
       "\n",
       "    .dataframe tbody tr th {\n",
       "        vertical-align: top;\n",
       "    }\n",
       "\n",
       "    .dataframe thead th {\n",
       "        text-align: right;\n",
       "    }\n",
       "</style>\n",
       "<table border=\"1\" class=\"dataframe\">\n",
       "  <thead>\n",
       "    <tr style=\"text-align: right;\">\n",
       "      <th></th>\n",
       "      <th>Q</th>\n",
       "      <th>Conductivity</th>\n",
       "      <th>NO3</th>\n",
       "      <th>Temp</th>\n",
       "      <th>Turbidity</th>\n",
       "      <th>Level</th>\n",
       "      <th>Dayofweek</th>\n",
       "      <th>Month</th>\n",
       "    </tr>\n",
       "  </thead>\n",
       "  <tbody>\n",
       "    <tr>\n",
       "      <th>1589</th>\n",
       "      <td>37.991667</td>\n",
       "      <td>98.75</td>\n",
       "      <td>0.012</td>\n",
       "      <td>25.23</td>\n",
       "      <td>78.09</td>\n",
       "      <td>4.760667</td>\n",
       "      <td>0.0</td>\n",
       "      <td>2.0</td>\n",
       "    </tr>\n",
       "    <tr>\n",
       "      <th>1607</th>\n",
       "      <td>42.240000</td>\n",
       "      <td>88.58</td>\n",
       "      <td>0.001</td>\n",
       "      <td>24.29</td>\n",
       "      <td>69.04</td>\n",
       "      <td>5.011571</td>\n",
       "      <td>1.0</td>\n",
       "      <td>2.0</td>\n",
       "    </tr>\n",
       "    <tr>\n",
       "      <th>1608</th>\n",
       "      <td>27.900000</td>\n",
       "      <td>92.54</td>\n",
       "      <td>0.007</td>\n",
       "      <td>24.30</td>\n",
       "      <td>65.00</td>\n",
       "      <td>4.545571</td>\n",
       "      <td>1.0</td>\n",
       "      <td>2.0</td>\n",
       "    </tr>\n",
       "    <tr>\n",
       "      <th>1609</th>\n",
       "      <td>21.578333</td>\n",
       "      <td>97.69</td>\n",
       "      <td>0.013</td>\n",
       "      <td>24.35</td>\n",
       "      <td>54.89</td>\n",
       "      <td>4.148571</td>\n",
       "      <td>1.0</td>\n",
       "      <td>2.0</td>\n",
       "    </tr>\n",
       "    <tr>\n",
       "      <th>1610</th>\n",
       "      <td>20.110000</td>\n",
       "      <td>102.41</td>\n",
       "      <td>0.009</td>\n",
       "      <td>24.39</td>\n",
       "      <td>58.11</td>\n",
       "      <td>3.866857</td>\n",
       "      <td>1.0</td>\n",
       "      <td>2.0</td>\n",
       "    </tr>\n",
       "  </tbody>\n",
       "</table>\n",
       "</div>"
      ],
      "text/plain": [
       "              Q  Conductivity    NO3   Temp  Turbidity     Level  Dayofweek  \\\n",
       "1589  37.991667         98.75  0.012  25.23      78.09  4.760667        0.0   \n",
       "1607  42.240000         88.58  0.001  24.29      69.04  5.011571        1.0   \n",
       "1608  27.900000         92.54  0.007  24.30      65.00  4.545571        1.0   \n",
       "1609  21.578333         97.69  0.013  24.35      54.89  4.148571        1.0   \n",
       "1610  20.110000        102.41  0.009  24.39      58.11  3.866857        1.0   \n",
       "\n",
       "      Month  \n",
       "1589    2.0  \n",
       "1607    2.0  \n",
       "1608    2.0  \n",
       "1609    2.0  \n",
       "1610    2.0  "
      ]
     },
     "execution_count": 42,
     "metadata": {},
     "output_type": "execute_result"
    }
   ],
   "source": [
    "df.dropna(inplace=True)\n",
    "df.head()"
   ]
  },
  {
   "cell_type": "code",
   "execution_count": 43,
   "metadata": {},
   "outputs": [
    {
     "data": {
      "text/plain": [
       "Q               0\n",
       "Conductivity    0\n",
       "NO3             0\n",
       "Temp            0\n",
       "Turbidity       0\n",
       "Level           0\n",
       "Dayofweek       0\n",
       "Month           0\n",
       "dtype: int64"
      ]
     },
     "execution_count": 43,
     "metadata": {},
     "output_type": "execute_result"
    }
   ],
   "source": [
    "df.isnull().sum()"
   ]
  },
  {
   "cell_type": "markdown",
   "metadata": {},
   "source": [
    "__Handling and managing the Outliers__"
   ]
  },
  {
   "cell_type": "code",
   "execution_count": 44,
   "metadata": {},
   "outputs": [
    {
     "name": "stdout",
     "output_type": "stream",
     "text": [
      "Q               14.330\n",
      "Conductivity    65.375\n",
      "NO3              0.522\n",
      "Temp             1.820\n",
      "Turbidity       49.210\n",
      "Level            1.142\n",
      "Dayofweek        4.000\n",
      "Month            1.000\n",
      "dtype: float64\n"
     ]
    }
   ],
   "source": [
    "Q1 = df.quantile(0.25)\n",
    "Q3 = df.quantile(0.75)\n",
    "IQR = Q3 - Q1\n",
    "print(IQR)"
   ]
  },
  {
   "cell_type": "markdown",
   "metadata": {},
   "source": [
    "The above output prints the IQR scores, which can be used to detect outliers. The code below generates an output with the 'True' and 'False' values. Points where the values are 'True' represent the presence of the outlier. So, here we can see that there are no outliers in this dataset."
   ]
  },
  {
   "cell_type": "code",
   "execution_count": 52,
   "metadata": {},
   "outputs": [
    {
     "name": "stdout",
     "output_type": "stream",
     "text": [
      "           Q  Conductivity    NO3   Temp  Turbidity  Level  Dayofweek  Month\n",
      "1589   False         False  False  False      False  False      False  False\n",
      "1607   False         False  False  False      False  False      False  False\n",
      "1608   False         False  False  False      False  False      False  False\n",
      "1609   False         False  False  False      False  False      False  False\n",
      "1610   False         False  False  False      False  False      False  False\n",
      "...      ...           ...    ...    ...        ...    ...        ...    ...\n",
      "11172  False         False  False  False      False  False      False  False\n",
      "11173  False         False  False  False      False  False      False  False\n",
      "11174  False         False  False  False      False  False      False  False\n",
      "11175  False         False  False  False      False  False      False  False\n",
      "11176  False         False  False  False      False  False      False  False\n",
      "\n",
      "[243 rows x 8 columns]\n"
     ]
    },
    {
     "ename": "TypeError",
     "evalue": "Cannot perform 'ror_' with a dtyped [bool] array and scalar of type [NoneType]",
     "output_type": "error",
     "traceback": [
      "\u001b[1;31m---------------------------------------------------------------------------\u001b[0m",
      "\u001b[1;31mTypeError\u001b[0m                                 Traceback (most recent call last)",
      "\u001b[1;32m~\\anaconda3\\Anaconda\\lib\\site-packages\\pandas\\core\\ops\\array_ops.py\u001b[0m in \u001b[0;36mna_logical_op\u001b[1;34m(x, y, op)\u001b[0m\n\u001b[0;32m    265\u001b[0m         \u001b[1;31m#  (xint or xbool) and (yint or bool)\u001b[0m\u001b[1;33m\u001b[0m\u001b[1;33m\u001b[0m\u001b[1;33m\u001b[0m\u001b[0m\n\u001b[1;32m--> 266\u001b[1;33m         \u001b[0mresult\u001b[0m \u001b[1;33m=\u001b[0m \u001b[0mop\u001b[0m\u001b[1;33m(\u001b[0m\u001b[0mx\u001b[0m\u001b[1;33m,\u001b[0m \u001b[0my\u001b[0m\u001b[1;33m)\u001b[0m\u001b[1;33m\u001b[0m\u001b[1;33m\u001b[0m\u001b[0m\n\u001b[0m\u001b[0;32m    267\u001b[0m     \u001b[1;32mexcept\u001b[0m \u001b[0mTypeError\u001b[0m\u001b[1;33m:\u001b[0m\u001b[1;33m\u001b[0m\u001b[1;33m\u001b[0m\u001b[0m\n",
      "\u001b[1;32m~\\anaconda3\\Anaconda\\lib\\site-packages\\pandas\\core\\ops\\roperator.py\u001b[0m in \u001b[0;36mror_\u001b[1;34m(left, right)\u001b[0m\n\u001b[0;32m     55\u001b[0m \u001b[1;32mdef\u001b[0m \u001b[0mror_\u001b[0m\u001b[1;33m(\u001b[0m\u001b[0mleft\u001b[0m\u001b[1;33m,\u001b[0m \u001b[0mright\u001b[0m\u001b[1;33m)\u001b[0m\u001b[1;33m:\u001b[0m\u001b[1;33m\u001b[0m\u001b[1;33m\u001b[0m\u001b[0m\n\u001b[1;32m---> 56\u001b[1;33m     \u001b[1;32mreturn\u001b[0m \u001b[0moperator\u001b[0m\u001b[1;33m.\u001b[0m\u001b[0mor_\u001b[0m\u001b[1;33m(\u001b[0m\u001b[0mright\u001b[0m\u001b[1;33m,\u001b[0m \u001b[0mleft\u001b[0m\u001b[1;33m)\u001b[0m\u001b[1;33m\u001b[0m\u001b[1;33m\u001b[0m\u001b[0m\n\u001b[0m\u001b[0;32m     57\u001b[0m \u001b[1;33m\u001b[0m\u001b[0m\n",
      "\u001b[1;31mTypeError\u001b[0m: unsupported operand type(s) for |: 'NoneType' and 'bool'",
      "\nDuring handling of the above exception, another exception occurred:\n",
      "\u001b[1;31mValueError\u001b[0m                                Traceback (most recent call last)",
      "\u001b[1;32m~\\anaconda3\\Anaconda\\lib\\site-packages\\pandas\\core\\ops\\array_ops.py\u001b[0m in \u001b[0;36mna_logical_op\u001b[1;34m(x, y, op)\u001b[0m\n\u001b[0;32m    279\u001b[0m             \u001b[1;32mtry\u001b[0m\u001b[1;33m:\u001b[0m\u001b[1;33m\u001b[0m\u001b[1;33m\u001b[0m\u001b[0m\n\u001b[1;32m--> 280\u001b[1;33m                 \u001b[0mresult\u001b[0m \u001b[1;33m=\u001b[0m \u001b[0mlibops\u001b[0m\u001b[1;33m.\u001b[0m\u001b[0mscalar_binop\u001b[0m\u001b[1;33m(\u001b[0m\u001b[0mx\u001b[0m\u001b[1;33m,\u001b[0m \u001b[0my\u001b[0m\u001b[1;33m,\u001b[0m \u001b[0mop\u001b[0m\u001b[1;33m)\u001b[0m\u001b[1;33m\u001b[0m\u001b[1;33m\u001b[0m\u001b[0m\n\u001b[0m\u001b[0;32m    281\u001b[0m             except (\n",
      "\u001b[1;32mpandas\\_libs\\ops.pyx\u001b[0m in \u001b[0;36mpandas._libs.ops.scalar_binop\u001b[1;34m()\u001b[0m\n",
      "\u001b[1;31mValueError\u001b[0m: Buffer has wrong number of dimensions (expected 1, got 2)",
      "\nThe above exception was the direct cause of the following exception:\n",
      "\u001b[1;31mTypeError\u001b[0m                                 Traceback (most recent call last)",
      "\u001b[1;32m<ipython-input-52-a02a94f243ef>\u001b[0m in \u001b[0;36m<module>\u001b[1;34m\u001b[0m\n\u001b[1;32m----> 1\u001b[1;33m \u001b[0mprint\u001b[0m\u001b[1;33m(\u001b[0m\u001b[0mdf\u001b[0m \u001b[1;33m<\u001b[0m \u001b[1;33m(\u001b[0m\u001b[0mQ1\u001b[0m \u001b[1;33m-\u001b[0m \u001b[1;36m1.5\u001b[0m \u001b[1;33m*\u001b[0m \u001b[0mIQR\u001b[0m\u001b[1;33m)\u001b[0m\u001b[1;33m)\u001b[0m \u001b[1;33m|\u001b[0m\u001b[1;33m(\u001b[0m\u001b[0mdf\u001b[0m \u001b[1;33m>\u001b[0m \u001b[1;33m(\u001b[0m\u001b[0mQ3\u001b[0m \u001b[1;33m+\u001b[0m \u001b[1;36m1.5\u001b[0m \u001b[1;33m*\u001b[0m \u001b[0mIQR\u001b[0m\u001b[1;33m)\u001b[0m\u001b[1;33m)\u001b[0m\u001b[1;33m\u001b[0m\u001b[1;33m\u001b[0m\u001b[0m\n\u001b[0m",
      "\u001b[1;32m~\\anaconda3\\Anaconda\\lib\\site-packages\\pandas\\core\\ops\\__init__.py\u001b[0m in \u001b[0;36mf\u001b[1;34m(self, other, axis, level, fill_value)\u001b[0m\n\u001b[0;32m    658\u001b[0m                 \u001b[0mself\u001b[0m \u001b[1;33m=\u001b[0m \u001b[0mself\u001b[0m\u001b[1;33m.\u001b[0m\u001b[0mfillna\u001b[0m\u001b[1;33m(\u001b[0m\u001b[0mfill_value\u001b[0m\u001b[1;33m)\u001b[0m\u001b[1;33m\u001b[0m\u001b[1;33m\u001b[0m\u001b[0m\n\u001b[0;32m    659\u001b[0m \u001b[1;33m\u001b[0m\u001b[0m\n\u001b[1;32m--> 660\u001b[1;33m             \u001b[0mnew_data\u001b[0m \u001b[1;33m=\u001b[0m \u001b[0mdispatch_to_series\u001b[0m\u001b[1;33m(\u001b[0m\u001b[0mself\u001b[0m\u001b[1;33m,\u001b[0m \u001b[0mother\u001b[0m\u001b[1;33m,\u001b[0m \u001b[0mop\u001b[0m\u001b[1;33m)\u001b[0m\u001b[1;33m\u001b[0m\u001b[1;33m\u001b[0m\u001b[0m\n\u001b[0m\u001b[0;32m    661\u001b[0m \u001b[1;33m\u001b[0m\u001b[0m\n\u001b[0;32m    662\u001b[0m         \u001b[1;32mreturn\u001b[0m \u001b[0mself\u001b[0m\u001b[1;33m.\u001b[0m\u001b[0m_construct_result\u001b[0m\u001b[1;33m(\u001b[0m\u001b[0mnew_data\u001b[0m\u001b[1;33m)\u001b[0m\u001b[1;33m\u001b[0m\u001b[1;33m\u001b[0m\u001b[0m\n",
      "\u001b[1;32m~\\anaconda3\\Anaconda\\lib\\site-packages\\pandas\\core\\ops\\__init__.py\u001b[0m in \u001b[0;36mdispatch_to_series\u001b[1;34m(left, right, func, axis)\u001b[0m\n\u001b[0;32m    263\u001b[0m     \u001b[1;32mif\u001b[0m \u001b[1;32mnot\u001b[0m \u001b[0mis_list_like\u001b[0m\u001b[1;33m(\u001b[0m\u001b[0mright\u001b[0m\u001b[1;33m)\u001b[0m\u001b[1;33m:\u001b[0m\u001b[1;33m\u001b[0m\u001b[1;33m\u001b[0m\u001b[0m\n\u001b[0;32m    264\u001b[0m         \u001b[1;31m# i.e. scalar, faster than checking np.ndim(right) == 0\u001b[0m\u001b[1;33m\u001b[0m\u001b[1;33m\u001b[0m\u001b[1;33m\u001b[0m\u001b[0m\n\u001b[1;32m--> 265\u001b[1;33m         \u001b[0mbm\u001b[0m \u001b[1;33m=\u001b[0m \u001b[0mleft\u001b[0m\u001b[1;33m.\u001b[0m\u001b[0m_mgr\u001b[0m\u001b[1;33m.\u001b[0m\u001b[0mapply\u001b[0m\u001b[1;33m(\u001b[0m\u001b[0marray_op\u001b[0m\u001b[1;33m,\u001b[0m \u001b[0mright\u001b[0m\u001b[1;33m=\u001b[0m\u001b[0mright\u001b[0m\u001b[1;33m)\u001b[0m\u001b[1;33m\u001b[0m\u001b[1;33m\u001b[0m\u001b[0m\n\u001b[0m\u001b[0;32m    266\u001b[0m         \u001b[1;32mreturn\u001b[0m \u001b[0mtype\u001b[0m\u001b[1;33m(\u001b[0m\u001b[0mleft\u001b[0m\u001b[1;33m)\u001b[0m\u001b[1;33m(\u001b[0m\u001b[0mbm\u001b[0m\u001b[1;33m)\u001b[0m\u001b[1;33m\u001b[0m\u001b[1;33m\u001b[0m\u001b[0m\n\u001b[0;32m    267\u001b[0m \u001b[1;33m\u001b[0m\u001b[0m\n",
      "\u001b[1;32m~\\anaconda3\\Anaconda\\lib\\site-packages\\pandas\\core\\internals\\managers.py\u001b[0m in \u001b[0;36mapply\u001b[1;34m(self, f, align_keys, **kwargs)\u001b[0m\n\u001b[0;32m    402\u001b[0m \u001b[1;33m\u001b[0m\u001b[0m\n\u001b[0;32m    403\u001b[0m             \u001b[1;32mif\u001b[0m \u001b[0mcallable\u001b[0m\u001b[1;33m(\u001b[0m\u001b[0mf\u001b[0m\u001b[1;33m)\u001b[0m\u001b[1;33m:\u001b[0m\u001b[1;33m\u001b[0m\u001b[1;33m\u001b[0m\u001b[0m\n\u001b[1;32m--> 404\u001b[1;33m                 \u001b[0mapplied\u001b[0m \u001b[1;33m=\u001b[0m \u001b[0mb\u001b[0m\u001b[1;33m.\u001b[0m\u001b[0mapply\u001b[0m\u001b[1;33m(\u001b[0m\u001b[0mf\u001b[0m\u001b[1;33m,\u001b[0m \u001b[1;33m**\u001b[0m\u001b[0mkwargs\u001b[0m\u001b[1;33m)\u001b[0m\u001b[1;33m\u001b[0m\u001b[1;33m\u001b[0m\u001b[0m\n\u001b[0m\u001b[0;32m    405\u001b[0m             \u001b[1;32melse\u001b[0m\u001b[1;33m:\u001b[0m\u001b[1;33m\u001b[0m\u001b[1;33m\u001b[0m\u001b[0m\n\u001b[0;32m    406\u001b[0m                 \u001b[0mapplied\u001b[0m \u001b[1;33m=\u001b[0m \u001b[0mgetattr\u001b[0m\u001b[1;33m(\u001b[0m\u001b[0mb\u001b[0m\u001b[1;33m,\u001b[0m \u001b[0mf\u001b[0m\u001b[1;33m)\u001b[0m\u001b[1;33m(\u001b[0m\u001b[1;33m**\u001b[0m\u001b[0mkwargs\u001b[0m\u001b[1;33m)\u001b[0m\u001b[1;33m\u001b[0m\u001b[1;33m\u001b[0m\u001b[0m\n",
      "\u001b[1;32m~\\anaconda3\\Anaconda\\lib\\site-packages\\pandas\\core\\internals\\blocks.py\u001b[0m in \u001b[0;36mapply\u001b[1;34m(self, func, **kwargs)\u001b[0m\n\u001b[0;32m    344\u001b[0m         \"\"\"\n\u001b[0;32m    345\u001b[0m         \u001b[1;32mwith\u001b[0m \u001b[0mnp\u001b[0m\u001b[1;33m.\u001b[0m\u001b[0merrstate\u001b[0m\u001b[1;33m(\u001b[0m\u001b[0mall\u001b[0m\u001b[1;33m=\u001b[0m\u001b[1;34m\"ignore\"\u001b[0m\u001b[1;33m)\u001b[0m\u001b[1;33m:\u001b[0m\u001b[1;33m\u001b[0m\u001b[1;33m\u001b[0m\u001b[0m\n\u001b[1;32m--> 346\u001b[1;33m             \u001b[0mresult\u001b[0m \u001b[1;33m=\u001b[0m \u001b[0mfunc\u001b[0m\u001b[1;33m(\u001b[0m\u001b[0mself\u001b[0m\u001b[1;33m.\u001b[0m\u001b[0mvalues\u001b[0m\u001b[1;33m,\u001b[0m \u001b[1;33m**\u001b[0m\u001b[0mkwargs\u001b[0m\u001b[1;33m)\u001b[0m\u001b[1;33m\u001b[0m\u001b[1;33m\u001b[0m\u001b[0m\n\u001b[0m\u001b[0;32m    347\u001b[0m \u001b[1;33m\u001b[0m\u001b[0m\n\u001b[0;32m    348\u001b[0m         \u001b[1;32mreturn\u001b[0m \u001b[0mself\u001b[0m\u001b[1;33m.\u001b[0m\u001b[0m_split_op_result\u001b[0m\u001b[1;33m(\u001b[0m\u001b[0mresult\u001b[0m\u001b[1;33m)\u001b[0m\u001b[1;33m\u001b[0m\u001b[1;33m\u001b[0m\u001b[0m\n",
      "\u001b[1;32m~\\anaconda3\\Anaconda\\lib\\site-packages\\pandas\\core\\ops\\array_ops.py\u001b[0m in \u001b[0;36mlogical_op\u001b[1;34m(left, right, op)\u001b[0m\n\u001b[0;32m    354\u001b[0m         \u001b[0mfiller\u001b[0m \u001b[1;33m=\u001b[0m \u001b[0mfill_int\u001b[0m \u001b[1;32mif\u001b[0m \u001b[0mis_self_int_dtype\u001b[0m \u001b[1;32mand\u001b[0m \u001b[0mis_other_int_dtype\u001b[0m \u001b[1;32melse\u001b[0m \u001b[0mfill_bool\u001b[0m\u001b[1;33m\u001b[0m\u001b[1;33m\u001b[0m\u001b[0m\n\u001b[0;32m    355\u001b[0m \u001b[1;33m\u001b[0m\u001b[0m\n\u001b[1;32m--> 356\u001b[1;33m         \u001b[0mres_values\u001b[0m \u001b[1;33m=\u001b[0m \u001b[0mna_logical_op\u001b[0m\u001b[1;33m(\u001b[0m\u001b[0mlvalues\u001b[0m\u001b[1;33m,\u001b[0m \u001b[0mrvalues\u001b[0m\u001b[1;33m,\u001b[0m \u001b[0mop\u001b[0m\u001b[1;33m)\u001b[0m\u001b[1;33m\u001b[0m\u001b[1;33m\u001b[0m\u001b[0m\n\u001b[0m\u001b[0;32m    357\u001b[0m         \u001b[0mres_values\u001b[0m \u001b[1;33m=\u001b[0m \u001b[0mfiller\u001b[0m\u001b[1;33m(\u001b[0m\u001b[0mres_values\u001b[0m\u001b[1;33m)\u001b[0m  \u001b[1;31m# type: ignore\u001b[0m\u001b[1;33m\u001b[0m\u001b[1;33m\u001b[0m\u001b[0m\n\u001b[0;32m    358\u001b[0m \u001b[1;33m\u001b[0m\u001b[0m\n",
      "\u001b[1;32m~\\anaconda3\\Anaconda\\lib\\site-packages\\pandas\\core\\ops\\array_ops.py\u001b[0m in \u001b[0;36mna_logical_op\u001b[1;34m(x, y, op)\u001b[0m\n\u001b[0;32m    287\u001b[0m             ) as err:\n\u001b[0;32m    288\u001b[0m                 \u001b[0mtyp\u001b[0m \u001b[1;33m=\u001b[0m \u001b[0mtype\u001b[0m\u001b[1;33m(\u001b[0m\u001b[0my\u001b[0m\u001b[1;33m)\u001b[0m\u001b[1;33m.\u001b[0m\u001b[0m__name__\u001b[0m\u001b[1;33m\u001b[0m\u001b[1;33m\u001b[0m\u001b[0m\n\u001b[1;32m--> 289\u001b[1;33m                 raise TypeError(\n\u001b[0m\u001b[0;32m    290\u001b[0m                     \u001b[1;34mf\"Cannot perform '{op.__name__}' with a dtyped [{x.dtype}] array \"\u001b[0m\u001b[1;33m\u001b[0m\u001b[1;33m\u001b[0m\u001b[0m\n\u001b[0;32m    291\u001b[0m                     \u001b[1;34mf\"and scalar of type [{typ}]\"\u001b[0m\u001b[1;33m\u001b[0m\u001b[1;33m\u001b[0m\u001b[0m\n",
      "\u001b[1;31mTypeError\u001b[0m: Cannot perform 'ror_' with a dtyped [bool] array and scalar of type [NoneType]"
     ]
    }
   ],
   "source": [
    "print(df < (Q1 - 1.5 * IQR)) |(df > (Q3 + 1.5 * IQR))"
   ]
  },
  {
   "cell_type": "code",
   "execution_count": 48,
   "metadata": {},
   "outputs": [
    {
     "name": "stdout",
     "output_type": "stream",
     "text": [
      "158.08\n",
      "249.88899999999992\n"
     ]
    },
    {
     "data": {
      "text/html": [
       "<div>\n",
       "<style scoped>\n",
       "    .dataframe tbody tr th:only-of-type {\n",
       "        vertical-align: middle;\n",
       "    }\n",
       "\n",
       "    .dataframe tbody tr th {\n",
       "        vertical-align: top;\n",
       "    }\n",
       "\n",
       "    .dataframe thead th {\n",
       "        text-align: right;\n",
       "    }\n",
       "</style>\n",
       "<table border=\"1\" class=\"dataframe\">\n",
       "  <thead>\n",
       "    <tr style=\"text-align: right;\">\n",
       "      <th></th>\n",
       "      <th>Q</th>\n",
       "      <th>Conductivity</th>\n",
       "      <th>NO3</th>\n",
       "      <th>Temp</th>\n",
       "      <th>Turbidity</th>\n",
       "      <th>Level</th>\n",
       "      <th>Dayofweek</th>\n",
       "      <th>Month</th>\n",
       "    </tr>\n",
       "  </thead>\n",
       "  <tbody>\n",
       "    <tr>\n",
       "      <th>count</th>\n",
       "      <td>243.000000</td>\n",
       "      <td>243.000000</td>\n",
       "      <td>243.000000</td>\n",
       "      <td>243.000000</td>\n",
       "      <td>243.000000</td>\n",
       "      <td>243.000000</td>\n",
       "      <td>243.000000</td>\n",
       "      <td>243.000000</td>\n",
       "    </tr>\n",
       "    <tr>\n",
       "      <th>mean</th>\n",
       "      <td>46.511481</td>\n",
       "      <td>149.762853</td>\n",
       "      <td>0.327541</td>\n",
       "      <td>25.836818</td>\n",
       "      <td>64.351180</td>\n",
       "      <td>2.907045</td>\n",
       "      <td>3.164609</td>\n",
       "      <td>2.415638</td>\n",
       "    </tr>\n",
       "    <tr>\n",
       "      <th>std</th>\n",
       "      <td>95.135692</td>\n",
       "      <td>45.154548</td>\n",
       "      <td>0.250610</td>\n",
       "      <td>1.526421</td>\n",
       "      <td>43.368331</td>\n",
       "      <td>1.008380</td>\n",
       "      <td>2.106087</td>\n",
       "      <td>1.073768</td>\n",
       "    </tr>\n",
       "    <tr>\n",
       "      <th>min</th>\n",
       "      <td>-15.120000</td>\n",
       "      <td>-0.036667</td>\n",
       "      <td>0.001000</td>\n",
       "      <td>14.770000</td>\n",
       "      <td>1.636667</td>\n",
       "      <td>1.013333</td>\n",
       "      <td>0.000000</td>\n",
       "      <td>1.000000</td>\n",
       "    </tr>\n",
       "    <tr>\n",
       "      <th>25%</th>\n",
       "      <td>11.570000</td>\n",
       "      <td>117.775000</td>\n",
       "      <td>0.033500</td>\n",
       "      <td>24.850000</td>\n",
       "      <td>34.180000</td>\n",
       "      <td>2.239000</td>\n",
       "      <td>1.000000</td>\n",
       "      <td>2.000000</td>\n",
       "    </tr>\n",
       "    <tr>\n",
       "      <th>50%</th>\n",
       "      <td>15.573333</td>\n",
       "      <td>154.630000</td>\n",
       "      <td>0.392000</td>\n",
       "      <td>26.180000</td>\n",
       "      <td>55.440000</td>\n",
       "      <td>2.501000</td>\n",
       "      <td>3.000000</td>\n",
       "      <td>2.000000</td>\n",
       "    </tr>\n",
       "    <tr>\n",
       "      <th>75%</th>\n",
       "      <td>25.900000</td>\n",
       "      <td>178.005000</td>\n",
       "      <td>0.555500</td>\n",
       "      <td>26.670000</td>\n",
       "      <td>83.390000</td>\n",
       "      <td>3.381000</td>\n",
       "      <td>5.000000</td>\n",
       "      <td>3.000000</td>\n",
       "    </tr>\n",
       "    <tr>\n",
       "      <th>max</th>\n",
       "      <td>578.600000</td>\n",
       "      <td>284.780000</td>\n",
       "      <td>0.698000</td>\n",
       "      <td>28.950000</td>\n",
       "      <td>345.930000</td>\n",
       "      <td>6.725750</td>\n",
       "      <td>6.000000</td>\n",
       "      <td>8.000000</td>\n",
       "    </tr>\n",
       "  </tbody>\n",
       "</table>\n",
       "</div>"
      ],
      "text/plain": [
       "                Q  Conductivity         NO3        Temp   Turbidity  \\\n",
       "count  243.000000    243.000000  243.000000  243.000000  243.000000   \n",
       "mean    46.511481    149.762853    0.327541   25.836818   64.351180   \n",
       "std     95.135692     45.154548    0.250610    1.526421   43.368331   \n",
       "min    -15.120000     -0.036667    0.001000   14.770000    1.636667   \n",
       "25%     11.570000    117.775000    0.033500   24.850000   34.180000   \n",
       "50%     15.573333    154.630000    0.392000   26.180000   55.440000   \n",
       "75%     25.900000    178.005000    0.555500   26.670000   83.390000   \n",
       "max    578.600000    284.780000    0.698000   28.950000  345.930000   \n",
       "\n",
       "            Level   Dayofweek       Month  \n",
       "count  243.000000  243.000000  243.000000  \n",
       "mean     2.907045    3.164609    2.415638  \n",
       "std      1.008380    2.106087    1.073768  \n",
       "min      1.013333    0.000000    1.000000  \n",
       "25%      2.239000    1.000000    2.000000  \n",
       "50%      2.501000    3.000000    2.000000  \n",
       "75%      3.381000    5.000000    3.000000  \n",
       "max      6.725750    6.000000    8.000000  "
      ]
     },
     "execution_count": 48,
     "metadata": {},
     "output_type": "execute_result"
    }
   ],
   "source": [
    "print(df['Conductivity'].quantile(0.50)) \n",
    "print(df['Conductivity'].quantile(0.95)) \n",
    "df['Conductivity'] = np.where(df['Conductivity'] > 297, 128, df['Conductivity'])\n",
    "df.describe()"
   ]
  },
  {
   "cell_type": "code",
   "execution_count": 49,
   "metadata": {},
   "outputs": [
    {
     "name": "stdout",
     "output_type": "stream",
     "text": [
      "55.44\n",
      "145.07299999999998\n"
     ]
    },
    {
     "data": {
      "text/html": [
       "<div>\n",
       "<style scoped>\n",
       "    .dataframe tbody tr th:only-of-type {\n",
       "        vertical-align: middle;\n",
       "    }\n",
       "\n",
       "    .dataframe tbody tr th {\n",
       "        vertical-align: top;\n",
       "    }\n",
       "\n",
       "    .dataframe thead th {\n",
       "        text-align: right;\n",
       "    }\n",
       "</style>\n",
       "<table border=\"1\" class=\"dataframe\">\n",
       "  <thead>\n",
       "    <tr style=\"text-align: right;\">\n",
       "      <th></th>\n",
       "      <th>Q</th>\n",
       "      <th>Conductivity</th>\n",
       "      <th>NO3</th>\n",
       "      <th>Temp</th>\n",
       "      <th>Turbidity</th>\n",
       "      <th>Level</th>\n",
       "      <th>Dayofweek</th>\n",
       "      <th>Month</th>\n",
       "    </tr>\n",
       "  </thead>\n",
       "  <tbody>\n",
       "    <tr>\n",
       "      <th>count</th>\n",
       "      <td>243.000000</td>\n",
       "      <td>243.000000</td>\n",
       "      <td>243.000000</td>\n",
       "      <td>243.000000</td>\n",
       "      <td>243.000000</td>\n",
       "      <td>243.000000</td>\n",
       "      <td>243.000000</td>\n",
       "      <td>243.000000</td>\n",
       "    </tr>\n",
       "    <tr>\n",
       "      <th>mean</th>\n",
       "      <td>46.511481</td>\n",
       "      <td>149.762853</td>\n",
       "      <td>0.327541</td>\n",
       "      <td>25.836818</td>\n",
       "      <td>63.454348</td>\n",
       "      <td>2.907045</td>\n",
       "      <td>3.164609</td>\n",
       "      <td>2.415638</td>\n",
       "    </tr>\n",
       "    <tr>\n",
       "      <th>std</th>\n",
       "      <td>95.135692</td>\n",
       "      <td>45.154548</td>\n",
       "      <td>0.250610</td>\n",
       "      <td>1.526421</td>\n",
       "      <td>39.612046</td>\n",
       "      <td>1.008380</td>\n",
       "      <td>2.106087</td>\n",
       "      <td>1.073768</td>\n",
       "    </tr>\n",
       "    <tr>\n",
       "      <th>min</th>\n",
       "      <td>-15.120000</td>\n",
       "      <td>-0.036667</td>\n",
       "      <td>0.001000</td>\n",
       "      <td>14.770000</td>\n",
       "      <td>1.636667</td>\n",
       "      <td>1.013333</td>\n",
       "      <td>0.000000</td>\n",
       "      <td>1.000000</td>\n",
       "    </tr>\n",
       "    <tr>\n",
       "      <th>25%</th>\n",
       "      <td>11.570000</td>\n",
       "      <td>117.775000</td>\n",
       "      <td>0.033500</td>\n",
       "      <td>24.850000</td>\n",
       "      <td>34.180000</td>\n",
       "      <td>2.239000</td>\n",
       "      <td>1.000000</td>\n",
       "      <td>2.000000</td>\n",
       "    </tr>\n",
       "    <tr>\n",
       "      <th>50%</th>\n",
       "      <td>15.573333</td>\n",
       "      <td>154.630000</td>\n",
       "      <td>0.392000</td>\n",
       "      <td>26.180000</td>\n",
       "      <td>55.440000</td>\n",
       "      <td>2.501000</td>\n",
       "      <td>3.000000</td>\n",
       "      <td>2.000000</td>\n",
       "    </tr>\n",
       "    <tr>\n",
       "      <th>75%</th>\n",
       "      <td>25.900000</td>\n",
       "      <td>178.005000</td>\n",
       "      <td>0.555500</td>\n",
       "      <td>26.670000</td>\n",
       "      <td>83.390000</td>\n",
       "      <td>3.381000</td>\n",
       "      <td>5.000000</td>\n",
       "      <td>3.000000</td>\n",
       "    </tr>\n",
       "    <tr>\n",
       "      <th>max</th>\n",
       "      <td>578.600000</td>\n",
       "      <td>284.780000</td>\n",
       "      <td>0.698000</td>\n",
       "      <td>28.950000</td>\n",
       "      <td>225.180000</td>\n",
       "      <td>6.725750</td>\n",
       "      <td>6.000000</td>\n",
       "      <td>8.000000</td>\n",
       "    </tr>\n",
       "  </tbody>\n",
       "</table>\n",
       "</div>"
      ],
      "text/plain": [
       "                Q  Conductivity         NO3        Temp   Turbidity  \\\n",
       "count  243.000000    243.000000  243.000000  243.000000  243.000000   \n",
       "mean    46.511481    149.762853    0.327541   25.836818   63.454348   \n",
       "std     95.135692     45.154548    0.250610    1.526421   39.612046   \n",
       "min    -15.120000     -0.036667    0.001000   14.770000    1.636667   \n",
       "25%     11.570000    117.775000    0.033500   24.850000   34.180000   \n",
       "50%     15.573333    154.630000    0.392000   26.180000   55.440000   \n",
       "75%     25.900000    178.005000    0.555500   26.670000   83.390000   \n",
       "max    578.600000    284.780000    0.698000   28.950000  225.180000   \n",
       "\n",
       "            Level   Dayofweek       Month  \n",
       "count  243.000000  243.000000  243.000000  \n",
       "mean     2.907045    3.164609    2.415638  \n",
       "std      1.008380    2.106087    1.073768  \n",
       "min      1.013333    0.000000    1.000000  \n",
       "25%      2.239000    1.000000    2.000000  \n",
       "50%      2.501000    3.000000    2.000000  \n",
       "75%      3.381000    5.000000    3.000000  \n",
       "max      6.725750    6.000000    8.000000  "
      ]
     },
     "execution_count": 49,
     "metadata": {},
     "output_type": "execute_result"
    }
   ],
   "source": [
    "print(df['Turbidity'].quantile(0.50)) \n",
    "print(df['Turbidity'].quantile(0.95)) \n",
    "df['Turbidity'] = np.where(df['Turbidity'] > 297, 128, df['Turbidity'])\n",
    "df.describe()"
   ]
  },
  {
   "cell_type": "markdown",
   "metadata": {},
   "source": [
    "__Data Analysis__"
   ]
  },
  {
   "cell_type": "code",
   "execution_count": 70,
   "metadata": {},
   "outputs": [
    {
     "data": {
      "text/plain": [
       "<AxesSubplot:xlabel='Conductivity'>"
      ]
     },
     "execution_count": 70,
     "metadata": {},
     "output_type": "execute_result"
    },
    {
     "data": {
      "image/png": "[encoded data removed]",
      "text/plain": [
       "<Figure size 432x288 with 1 Axes>"
      ]
     },
     "metadata": {},
     "output_type": "display_data"
    }
   ],
   "source": [
    "import seaborn as sns \n",
    "sns.set(style=\"whitegrid\", color_codes=True)\n",
    "sns.boxplot(x=df['Conductivity'])"
   ]
  },
  {
   "cell_type": "code",
   "execution_count": 71,
   "metadata": {},
   "outputs": [
    {
     "data": {
      "text/plain": [
       "<AxesSubplot:xlabel='Turbidity'>"
      ]
     },
     "execution_count": 71,
     "metadata": {},
     "output_type": "execute_result"
    },
    {
     "data": {
      "image/png": "[encoded data removed]",
      "text/plain": [
       "<Figure size 432x288 with 1 Axes>"
      ]
     },
     "metadata": {},
     "output_type": "display_data"
    }
   ],
   "source": [
    "sns.boxplot(x=df['Turbidity'])"
   ]
  },
  {
   "cell_type": "code",
   "execution_count": 72,
   "metadata": {},
   "outputs": [
    {
     "data": {
      "text/plain": [
       "(196, 8)"
      ]
     },
     "execution_count": 72,
     "metadata": {},
     "output_type": "execute_result"
    }
   ],
   "source": [
    "df = df[~((df < (Q1 - 1.5 * IQR)) |(df > (Q3 + 1.5 * IQR))).any(axis=1)]\n",
    "df.shape"
   ]
  },
  {
   "cell_type": "markdown",
   "metadata": {},
   "source": [
    "__Correlation Analysis__"
   ]
  },
  {
   "cell_type": "code",
   "execution_count": 92,
   "metadata": {},
   "outputs": [
    {
     "data": {
      "text/html": [
       "<div>\n",
       "<style scoped>\n",
       "    .dataframe tbody tr th:only-of-type {\n",
       "        vertical-align: middle;\n",
       "    }\n",
       "\n",
       "    .dataframe tbody tr th {\n",
       "        vertical-align: top;\n",
       "    }\n",
       "\n",
       "    .dataframe thead th {\n",
       "        text-align: right;\n",
       "    }\n",
       "</style>\n",
       "<table border=\"1\" class=\"dataframe\">\n",
       "  <thead>\n",
       "    <tr style=\"text-align: right;\">\n",
       "      <th></th>\n",
       "      <th>Q</th>\n",
       "      <th>Conductivity</th>\n",
       "      <th>NO3</th>\n",
       "      <th>Temp</th>\n",
       "      <th>Turbidity</th>\n",
       "      <th>Level</th>\n",
       "      <th>Dayofweek</th>\n",
       "      <th>Month</th>\n",
       "    </tr>\n",
       "  </thead>\n",
       "  <tbody>\n",
       "    <tr>\n",
       "      <th>Q</th>\n",
       "      <td>1.000000</td>\n",
       "      <td>-0.434863</td>\n",
       "      <td>-0.026219</td>\n",
       "      <td>0.043528</td>\n",
       "      <td>0.259462</td>\n",
       "      <td>0.614002</td>\n",
       "      <td>-0.032637</td>\n",
       "      <td>-0.238377</td>\n",
       "    </tr>\n",
       "    <tr>\n",
       "      <th>Conductivity</th>\n",
       "      <td>-0.434863</td>\n",
       "      <td>1.000000</td>\n",
       "      <td>0.443687</td>\n",
       "      <td>0.297930</td>\n",
       "      <td>-0.071290</td>\n",
       "      <td>-0.669950</td>\n",
       "      <td>0.020345</td>\n",
       "      <td>-0.011216</td>\n",
       "    </tr>\n",
       "    <tr>\n",
       "      <th>NO3</th>\n",
       "      <td>-0.026219</td>\n",
       "      <td>0.443687</td>\n",
       "      <td>1.000000</td>\n",
       "      <td>0.130774</td>\n",
       "      <td>0.324870</td>\n",
       "      <td>-0.276040</td>\n",
       "      <td>-0.167654</td>\n",
       "      <td>-0.440644</td>\n",
       "    </tr>\n",
       "    <tr>\n",
       "      <th>Temp</th>\n",
       "      <td>0.043528</td>\n",
       "      <td>0.297930</td>\n",
       "      <td>0.130774</td>\n",
       "      <td>1.000000</td>\n",
       "      <td>-0.487022</td>\n",
       "      <td>-0.527995</td>\n",
       "      <td>0.200655</td>\n",
       "      <td>-0.447506</td>\n",
       "    </tr>\n",
       "    <tr>\n",
       "      <th>Turbidity</th>\n",
       "      <td>0.259462</td>\n",
       "      <td>-0.071290</td>\n",
       "      <td>0.324870</td>\n",
       "      <td>-0.487022</td>\n",
       "      <td>1.000000</td>\n",
       "      <td>0.325149</td>\n",
       "      <td>0.028066</td>\n",
       "      <td>0.224818</td>\n",
       "    </tr>\n",
       "    <tr>\n",
       "      <th>Level</th>\n",
       "      <td>0.614002</td>\n",
       "      <td>-0.669950</td>\n",
       "      <td>-0.276040</td>\n",
       "      <td>-0.527995</td>\n",
       "      <td>0.325149</td>\n",
       "      <td>1.000000</td>\n",
       "      <td>-0.264724</td>\n",
       "      <td>-0.093135</td>\n",
       "    </tr>\n",
       "    <tr>\n",
       "      <th>Dayofweek</th>\n",
       "      <td>-0.032637</td>\n",
       "      <td>0.020345</td>\n",
       "      <td>-0.167654</td>\n",
       "      <td>0.200655</td>\n",
       "      <td>0.028066</td>\n",
       "      <td>-0.264724</td>\n",
       "      <td>1.000000</td>\n",
       "      <td>0.196628</td>\n",
       "    </tr>\n",
       "    <tr>\n",
       "      <th>Month</th>\n",
       "      <td>-0.238377</td>\n",
       "      <td>-0.011216</td>\n",
       "      <td>-0.440644</td>\n",
       "      <td>-0.447506</td>\n",
       "      <td>0.224818</td>\n",
       "      <td>-0.093135</td>\n",
       "      <td>0.196628</td>\n",
       "      <td>1.000000</td>\n",
       "    </tr>\n",
       "  </tbody>\n",
       "</table>\n",
       "</div>"
      ],
      "text/plain": [
       "                     Q  Conductivity       NO3      Temp  Turbidity     Level  \\\n",
       "Q             1.000000     -0.434863 -0.026219  0.043528   0.259462  0.614002   \n",
       "Conductivity -0.434863      1.000000  0.443687  0.297930  -0.071290 -0.669950   \n",
       "NO3          -0.026219      0.443687  1.000000  0.130774   0.324870 -0.276040   \n",
       "Temp          0.043528      0.297930  0.130774  1.000000  -0.487022 -0.527995   \n",
       "Turbidity     0.259462     -0.071290  0.324870 -0.487022   1.000000  0.325149   \n",
       "Level         0.614002     -0.669950 -0.276040 -0.527995   0.325149  1.000000   \n",
       "Dayofweek    -0.032637      0.020345 -0.167654  0.200655   0.028066 -0.264724   \n",
       "Month        -0.238377     -0.011216 -0.440644 -0.447506   0.224818 -0.093135   \n",
       "\n",
       "              Dayofweek     Month  \n",
       "Q             -0.032637 -0.238377  \n",
       "Conductivity   0.020345 -0.011216  \n",
       "NO3           -0.167654 -0.440644  \n",
       "Temp           0.200655 -0.447506  \n",
       "Turbidity      0.028066  0.224818  \n",
       "Level         -0.264724 -0.093135  \n",
       "Dayofweek      1.000000  0.196628  \n",
       "Month          0.196628  1.000000  "
      ]
     },
     "execution_count": 92,
     "metadata": {},
     "output_type": "execute_result"
    },
    {
     "data": {
      "image/png": "[encoded data removed]",
      "text/plain": [
       "<Figure size 720x360 with 2 Axes>"
      ]
     },
     "metadata": {},
     "output_type": "display_data"
    }
   ],
   "source": [
    "plt.figure(figsize=(10,5))\n",
    "c= df.corr()\n",
    "sns.heatmap(c,cmap=\"BrBG\",annot=True)\n",
    "c"
   ]
  },
  {
   "cell_type": "markdown",
   "metadata": {},
   "source": [
    "We can observe in the heatmap that some of the variables show a coefficient of ~0.6 or -0.4, but most of them display a very low correlation coefficient. So we can conclude that there is no strong linear correlation between our variables."
   ]
  },
  {
   "cell_type": "markdown",
   "metadata": {},
   "source": [
    "**Conductivity**:- A higher conductivity value indicates that there are more chemicals dissolved in the water. Conductivity measures the water's ability to conduct electricity, Because dissolved salts and other inorganic chemicals conduct electrical current, conductivity increases as salinity increases."
   ]
  },
  {
   "cell_type": "markdown",
   "metadata": {},
   "source": [
    "**Turbidity** :-Material that causes water to be turbid include clay, silt, very tiny inorganic and organic matter, algae, dissolved colored organic compounds, and plankton and other microscopic organisms. Turbidity makes water cloudy or opaque."
   ]
  },
  {
   "cell_type": "markdown",
   "metadata": {},
   "source": [
    "**Temperature**:- A critical water quality and environmental parameter because it governs the kinds and types of aquatic life, regulates the maximum dissolved oxygen concentration of the water, and influences the rate of chemical and biological reactions.Water between 50 and 72 degrees allows our bodies to rehydrate faster because it is absorbed more quickly"
   ]
  },
  {
   "cell_type": "markdown",
   "metadata": {},
   "source": [
    "**NO3** :-Nitrate is a common contaminant found in groundwater that can have serious health effects if consumed at high levels. Nitrate is colorless, odorless and tasteless. Low levels of naturally occurring nitrate can be normal, but excess amounts can pollute groundwater"
   ]
  },
  {
   "cell_type": "markdown",
   "metadata": {},
   "source": [
    "**Water level**:- Water level is also known as gauge height or stage, is the elevation of the free surface of a sea, stream, lake or reservoir relative to a specified vertical datum.the TDS level between 50-150 is considered as the most suitable and acceptable. Is Low TDS level bad or harmful for health? If the TDS level is about 1000 PPM, it is unsafe and unfit for human consumption."
   ]
  },
  {
   "cell_type": "code",
   "execution_count": 112,
   "metadata": {},
   "outputs": [
    {
     "data": {
      "image/png": "[encoded data removed]",
      "text/plain": [
       "<Figure size 432x288 with 1 Axes>"
      ]
     },
     "metadata": {},
     "output_type": "display_data"
    }
   ],
   "source": [
    "Month  = df ['Month']\n",
    "Temperature  = df ['Temp']\n",
    "plt.bar(Month,Temperature,label = 'Temperature of Water Monthly')\n",
    "plt.xlabel('Month')\n",
    "plt.ylabel('Temperature of water')\n",
    "plt.legend(loc='upper left')\n",
    "plt.title('Temperature of Water per Quantity  ')\n",
    "plt.xticks(monthList)\n",
    "plt.yticks([5, 10, 15, 20,25,30,35,40])\n",
    "plt.show()"
   ]
  },
  {
   "cell_type": "markdown",
   "metadata": {},
   "source": [
    "**Temperature** :- Water that is at 16ºC, such as cool tap water, is considered to be the most optimal for hydration. Water between 50 and 72 degrees allows our bodies to rehydrate faster because it is absorbed more quickly. Here, we can see that temperature is between 14-28 degrees. So, the temperature is pretty normal and it is drinkable."
   ]
  },
  {
   "cell_type": "code",
   "execution_count": 119,
   "metadata": {},
   "outputs": [
    {
     "data": {
      "image/png": "[encoded data removed]",
      "text/plain": [
       "<Figure size 432x288 with 1 Axes>"
      ]
     },
     "metadata": {},
     "output_type": "display_data"
    }
   ],
   "source": [
    "Month  = df ['Month']\n",
    "NO3 = df ['NO3']\n",
    "plt.bar(Month,NO3,label = 'NO3 level of Water Monthly')\n",
    "plt.xlabel('Month')\n",
    "plt.ylabel('NO3')\n",
    "plt.legend(loc='upper left')\n",
    "plt.title('NO3 level of Water per Quantity  ')\n",
    "plt.xticks(monthList)\n",
    "plt.yticks([1, 2, 3, 4,5])\n",
    "plt.show()"
   ]
  },
  {
   "cell_type": "markdown",
   "metadata": {},
   "source": [
    "**Nitrate**:- Standard for nitrate in drinking water is 10 milligrams of nitrate (measured as nitrogen) per liter of drinking water (mg/L).Drinking water with levels of nitrate at or below 10 mg/L is considered safe for everyone.So here we can see that the nitrate level is below 10 mg/l per monthly, so therefore the water is drinkable."
   ]
  },
  {
   "cell_type": "code",
   "execution_count": 102,
   "metadata": {},
   "outputs": [
    {
     "data": {
      "image/png": "[encoded data removed]",
      "text/plain": [
       "<Figure size 432x288 with 1 Axes>"
      ]
     },
     "metadata": {},
     "output_type": "display_data"
    }
   ],
   "source": [
    "Quantity  = df ['Q']\n",
    "Turbidity  = df ['Turbidity']\n",
    "plt.scatter(Quantity,Turbidity,label = 'Turbidity of Water per Quantity')\n",
    "plt.xlabel('Quantity')\n",
    "plt.ylabel('Turbidity of water')\n",
    "plt.legend(loc='upper left')\n",
    "plt.title('Turbidity of Water per Quantity  ')\n",
    "plt.xticks(monthList)\n",
    "plt.yticks([50, 100, 150, 200])\n",
    "plt.show()"
   ]
  },
  {
   "cell_type": "markdown",
   "metadata": {},
   "source": [
    "**Turbidity**:- Drinking water should have less than 5 NTU, preferably less than 1 NTU and ideally below 0.1 NTU. But over here we can see that the turbidity level is pretty high .Turbidity more than 5 NTU can be visible to the average person while turbidity in muddy water, it exceeds 100 NTU. Groundwater normally has very low turbidity because of the natural filtration that occurs as the water penetrates through the soil. So, the water is not drinkable."
   ]
  },
  {
   "cell_type": "code",
   "execution_count": 106,
   "metadata": {},
   "outputs": [
    {
     "data": {
      "image/png": "[encoded data removed]",
      "text/plain": [
       "<Figure size 432x288 with 1 Axes>"
      ]
     },
     "metadata": {},
     "output_type": "display_data"
    }
   ],
   "source": [
    "Conductivity = df ['Conductivity']\n",
    "Month= df ['Month']\n",
    "\n",
    "plt.plot(Month, Conductivity, label = 'Conductivty of water', \n",
    "      color='r', marker='o', linestyle='--', linewidth=1)\n",
    "      \n",
    "plt.xlabel('Month')\n",
    "plt.ylabel('Conductivity')\n",
    "plt.legend()\n",
    "plt.title('Conductivty of water')\n",
    "plt.xticks(Month)\n",
    "plt.yticks([100, 200, 300, 400])\n",
    "plt.show()"
   ]
  },
  {
   "cell_type": "markdown",
   "metadata": {},
   "source": [
    "**Conductivity**:-EC value should not exceeded 400 μS/cm.So we can conlude that Conductivity vise it is pretty good on the monthly basis and water is drinkable."
   ]
  },
  {
   "cell_type": "code",
   "execution_count": 126,
   "metadata": {},
   "outputs": [
    {
     "data": {
      "image/png": "[encoded data removed]",
      "text/plain": [
       "<Figure size 432x288 with 1 Axes>"
      ]
     },
     "metadata": {},
     "output_type": "display_data"
    }
   ],
   "source": [
    "Water_level = df ['Level']\n",
    "Month = df ['Month']\n",
    "\n",
    "plt.plot(Month, Water_level, label = 'Water Level of water monthly', \n",
    "      color='r', marker='o', linestyle='--', linewidth=1)\n",
    "      \n",
    "plt.xlabel('Month')\n",
    "plt.ylabel('Water_level')\n",
    "plt.legend()\n",
    "plt.title('Water level of water monthly')\n",
    "plt.xticks(Month)\n",
    "plt.yticks([0,1,2,3,4,5,6,7,8,9,10])\n",
    "plt.show()"
   ]
  },
  {
   "cell_type": "markdown",
   "metadata": {},
   "source": [
    "**Water level** :-Water level is also known as gauge height or stage, is the elevation of the free surface of a sea, stream, lake or reservoir relative to a specified vertical datum.the TDS level between 50-150 is considered as the most suitable and acceptable. So, here we can conclude that the water level is pretty low and it is drinkable. "
   ]
  },
  {
   "cell_type": "markdown",
   "metadata": {},
   "source": [
    "__Conclusion__"
   ]
  },
  {
   "cell_type": "markdown",
   "metadata": {},
   "source": [
    "By this we can infer that the water quality of the Scorbellos road in Australia receives pretty good quality of water but the improvement can be made in the turbidity of the water. Other factors of the water are pretty ideal for drinking."
   ]
  },
  {
   "cell_type": "markdown",
   "metadata": {},
   "source": [
    "_Thank You /_"
   ]
  }
 ],
 "metadata": {
  "kernelspec": {
   "display_name": "Python 3",
   "language": "python",
   "name": "python3"
  },
  "language_info": {
   "codemirror_mode": {
    "name": "ipython",
    "version": 3
   },
   "file_extension": ".py",
   "mimetype": "text/x-python",
   "name": "python",
   "nbconvert_exporter": "python",
   "pygments_lexer": "ipython3",
   "version": "3.8.5"
  }
 },
 "nbformat": 4,
 "nbformat_minor": 4
}
